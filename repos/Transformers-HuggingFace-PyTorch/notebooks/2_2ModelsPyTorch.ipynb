{
  "cells": [
    {
      "cell_type": "markdown",
      "metadata": {
        "id": "BQAhRX7dv6Zn"
      },
      "source": [
        "# Models (PyTorch)"
      ]
    },
    {
      "cell_type": "markdown",
      "metadata": {},
      "source": [
        "## Creating a Transformer"
      ]
    },
    {
      "cell_type": "markdown",
      "metadata": {},
      "source": [
        "## Instantiate a Transformers model"
      ]
    },
    {
      "cell_type": "code",
      "execution_count": null,
      "metadata": {},
      "outputs": [],
      "source": [
        "from transformers import AutoModel\n",
        "\n",
        "bert_model = AutoModel.from_pretrained(\"bert-base-cased\")\n",
        "print(type(bert_model))\n",
        "\n",
        "gpt_model = AutoModel.from_pretrained(\"gpt2\")\n",
        "print(type(gpt_model))\n",
        "\n",
        "bart_model = AutoModel.from_pretrained(\"facebook/bart-base\")\n",
        "print(type(bart_model))"
      ]
    },
    {
      "cell_type": "markdown",
      "metadata": {},
      "source": [
        "### Checkpoint or local folder"
      ]
    },
    {
      "cell_type": "code",
      "execution_count": null,
      "metadata": {},
      "outputs": [],
      "source": [
        "# AutoConfig API allows you to instantiate the configuration of a pretrained model from any checkpoint\n",
        "from transformers import AutoConfig\n",
        "\n",
        "bert_config = AutoConfig.from_pretrained(\"bert-base-cased\")\n",
        "print(type(bert_config))\n",
        "\n",
        "gpt_config = AutoConfig.from_pretrained(\"gpt2\")\n",
        "print(type(gpt_config))\n",
        "\n",
        "bart_config = AutoConfig.from_pretrained(\"facebook/bart-base\")\n",
        "print(type(bart_config))"
      ]
    },
    {
      "cell_type": "code",
      "execution_count": null,
      "metadata": {
        "id": "alWQQK-wXVrD"
      },
      "outputs": [],
      "source": [
        "# But you can also use the specific class if you know it\n",
        "from transformers import BertConfig\n",
        "\n",
        "bert_config = BertConfig.from_pretrained(\"bert-base-cased\")\n",
        "print(type(bert_config))\n",
        "\n",
        "from transformers import GPT2Config\n",
        "\n",
        "gpt_config = GPT2Config.from_pretrained(\"gpt2\")\n",
        "print(type(gpt_config))\n",
        "\n",
        "from transformers import BartConfig\n",
        "\n",
        "bart_config = BartConfig.from_pretrained(\"facebook/bart-base\")\n",
        "print(type(bart_config))"
      ]
    },
    {
      "cell_type": "code",
      "execution_count": null,
      "metadata": {
        "id": "lo1CEk0Gb6Uq"
      },
      "outputs": [],
      "source": [
        "# Same architecture as bert-base-cased\n",
        "from transformers import BertConfig, BertModel\n",
        "\n",
        "bert_config = BertConfig.from_pretrained(\"bert-base-cased\")\n",
        "bert_model = BertModel(bert_config)\n",
        "\n",
        "# Using only 10 layers instead of 12\n",
        "from transformers import BertConfig, BertModel\n",
        "\n",
        "bert_config = BertConfig.from_pretrained(\"bert-base-cased\", num_hidden_layers=10)\n",
        "bert_model = BertModel(bert_config)"
      ]
    },
    {
      "cell_type": "code",
      "execution_count": null,
      "metadata": {
        "id": "rZtLTUgJdJNb"
      },
      "outputs": [],
      "source": [
        "from transformers import BertConfig, BertModel\n",
        "\n",
        "bert_config = BertConfig.from_pretrained(\"bert-base-cased\")\n",
        "bert_model = BertModel(bert_config)\n",
        "\n",
        "# Training code\n",
        "bert_model.save_pretrained(\"my-bert-model\")"
      ]
    },
    {
      "cell_type": "code",
      "execution_count": null,
      "metadata": {
        "id": "anjUF2T3dJ0F"
      },
      "outputs": [],
      "source": [
        "from transformers import BertModel\n",
        "\n",
        "bert_model = BertModel.from_pretrained(\"my-bert-model\")"
      ]
    },
    {
      "cell_type": "code",
      "execution_count": null,
      "metadata": {
        "id": "UvtDtb7BnXsE"
      },
      "outputs": [],
      "source": [
        "from transformers import BertConfig, TFBertModel"
      ]
    },
    {
      "cell_type": "code",
      "execution_count": null,
      "metadata": {
        "id": "HC07kA--v6aB"
      },
      "outputs": [],
      "source": [
        "# to initialize a BERT model is load a configuration object\n",
        "from transformers import BertConfig, BertModel\n",
        "\n",
        "# Building the config\n",
        "config = BertConfig()\n",
        "\n",
        "# Building the model from the config\n",
        "model = BertModel(config)"
      ]
    },
    {
      "cell_type": "code",
      "execution_count": null,
      "metadata": {
        "id": "w49W5w0Kv6aE",
        "outputId": "91b81bd0-d05b-4c03-e6d1-a57e7a287fe3"
      },
      "outputs": [],
      "source": [
        "# hidden_size attribute defines the size of the hidden_states vector, and num_hidden_layers defines the number of layers the Transformer model has.\n",
        "print(config)"
      ]
    },
    {
      "cell_type": "code",
      "execution_count": null,
      "metadata": {
        "id": "SV1ssaFOv6aK"
      },
      "outputs": [],
      "source": [
        "from transformers import BertConfig, BertModel\n",
        "\n",
        "config = BertConfig()\n",
        "model = BertModel(config)\n",
        "\n",
        "# Model is randomly initialized if created from the default configuration"
      ]
    },
    {
      "cell_type": "code",
      "execution_count": null,
      "metadata": {
        "id": "6Zz1DndDv6aN"
      },
      "outputs": [],
      "source": [
        "from transformers import BertModel\n",
        "\n",
        "# reuse already trained models using from_pretrained() method\n",
        "model = BertModel.from_pretrained(\"bert-base-cased\")"
      ]
    },
    {
      "cell_type": "code",
      "execution_count": null,
      "metadata": {
        "id": "Gc9tQKflv6aQ"
      },
      "outputs": [],
      "source": [
        "model.save_pretrained(\"directory_on_my_computer\")"
      ]
    },
    {
      "cell_type": "code",
      "execution_count": null,
      "metadata": {
        "id": "cMeMnjhUv6aT"
      },
      "outputs": [],
      "source": [
        "sequences = [\"Hello!\", \"Cool.\", \"Nice!\"]"
      ]
    },
    {
      "cell_type": "code",
      "execution_count": null,
      "metadata": {
        "id": "zgvoNeb6v6aW"
      },
      "outputs": [],
      "source": [
        "encoded_sequences = [\n",
        "    [101, 7592, 999, 102],\n",
        "    [101, 4658, 1012, 102],\n",
        "    [101, 3835, 999, 102],\n",
        "]"
      ]
    },
    {
      "cell_type": "code",
      "execution_count": null,
      "metadata": {
        "id": "b1Fgtt9mv6aZ"
      },
      "outputs": [],
      "source": [
        "import torch\n",
        "\n",
        "model_inputs = torch.tensor(encoded_sequences)"
      ]
    },
    {
      "cell_type": "code",
      "execution_count": null,
      "metadata": {
        "id": "SfLna6Qpv6aa"
      },
      "outputs": [],
      "source": [
        "output = model(model_inputs)"
      ]
    }
  ],
  "metadata": {
    "colab": {
      "provenance": []
    },
    "kernelspec": {
      "display_name": "Python 3.8.13",
      "language": "python",
      "name": "python3"
    },
    "language_info": {
      "codemirror_mode": {
        "name": "ipython",
        "version": 3
      },
      "file_extension": ".py",
      "mimetype": "text/x-python",
      "name": "python",
      "nbconvert_exporter": "python",
      "pygments_lexer": "ipython3",
      "version": "3.8.13"
    },
    "vscode": {
      "interpreter": {
        "hash": "460dd6e9a01d6fbda8adb5f3f149dd8568b4f1e870be78255c85b5f36ef0c8be"
      }
    }
  },
  "nbformat": 4,
  "nbformat_minor": 0
}
