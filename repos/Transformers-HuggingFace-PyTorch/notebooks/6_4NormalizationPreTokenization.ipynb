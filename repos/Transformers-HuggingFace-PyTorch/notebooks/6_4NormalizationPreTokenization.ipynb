{
  "cells": [
    {
      "cell_type": "markdown",
      "metadata": {
        "id": "7vdAJ5ub-8YU"
      },
      "source": [
        "# Normalization and pre-tokenization"
      ]
    },
    {
      "cell_type": "markdown",
      "metadata": {
        "id": "n8hQA6KvM3Ir"
      },
      "source": [
        "## Normalization"
      ]
    },
    {
      "cell_type": "code",
      "execution_count": null,
      "metadata": {
        "id": "jsqbzD6W-8Yv",
        "outputId": "1fe4f664-490a-4a96-df72-bb89502e5f57"
      },
      "outputs": [
        {
          "data": {
            "text/plain": [
              "<class 'tokenizers.Tokenizer'>"
            ]
          },
          "execution_count": null,
          "metadata": {},
          "output_type": "execute_result"
        }
      ],
      "source": [
        "from transformers import AutoTokenizer\n",
        "\n",
        "tokenizer = AutoTokenizer.from_pretrained(\"bert-base-uncased\")\n",
        "print(type(tokenizer.backend_tokenizer))"
      ]
    },
    {
      "cell_type": "code",
      "execution_count": null,
      "metadata": {
        "id": "sQpwQ08m-8Y1",
        "outputId": "d40ab64d-9fe5-4bcd-e65f-e640638aef7a"
      },
      "outputs": [
        {
          "data": {
            "text/plain": [
              "'hello how are u?'"
            ]
          },
          "execution_count": null,
          "metadata": {},
          "output_type": "execute_result"
        }
      ],
      "source": [
        "print(tokenizer.backend_tokenizer.normalizer.normalize_str(\"Héllò hôw are ü?\"))"
      ]
    },
    {
      "cell_type": "markdown",
      "metadata": {
        "id": "ml-fVwFhM6PM"
      },
      "source": [
        "## Pre-tokenization\n"
      ]
    },
    {
      "cell_type": "code",
      "execution_count": null,
      "metadata": {
        "id": "Xv6LZV2I-8Y4",
        "outputId": "40dc313a-573c-4b2e-bcbb-7bb7b16f636e"
      },
      "outputs": [
        {
          "data": {
            "text/plain": [
              "[('Hello', (0, 5)), (',', (5, 6)), ('how', (7, 10)), ('are', (11, 14)), ('you', (16, 19)), ('?', (19, 20))]"
            ]
          },
          "execution_count": null,
          "metadata": {},
          "output_type": "execute_result"
        }
      ],
      "source": [
        "tokenizer.backend_tokenizer.pre_tokenizer.pre_tokenize_str(\"Hello, how are  you?\")"
      ]
    },
    {
      "cell_type": "code",
      "execution_count": null,
      "metadata": {
        "id": "447P9DB_-8Y9",
        "outputId": "a009ace4-9856-4179-a7ee-bff2af16eed8"
      },
      "outputs": [
        {
          "data": {
            "text/plain": [
              "[('Hello', (0, 5)), (',', (5, 6)), ('Ġhow', (6, 10)), ('Ġare', (10, 14)), ('Ġ', (14, 15)), ('Ġyou', (15, 19)),\n",
              " ('?', (19, 20))]"
            ]
          },
          "execution_count": null,
          "metadata": {},
          "output_type": "execute_result"
        }
      ],
      "source": [
        "tokenizer = AutoTokenizer.from_pretrained(\"gpt2\")\n",
        "tokenizer.backend_tokenizer.pre_tokenizer.pre_tokenize_str(\"Hello, how are  you?\")"
      ]
    },
    {
      "cell_type": "code",
      "execution_count": null,
      "metadata": {
        "id": "gWwC8MHV-8ZC",
        "outputId": "e7d3162c-00b7-4862-9480-153756ae426a"
      },
      "outputs": [
        {
          "data": {
            "text/plain": [
              "[('▁Hello,', (0, 6)), ('▁how', (7, 10)), ('▁are', (11, 14)), ('▁you?', (16, 20))]"
            ]
          },
          "execution_count": null,
          "metadata": {},
          "output_type": "execute_result"
        }
      ],
      "source": [
        "tokenizer = AutoTokenizer.from_pretrained(\"t5-small\")\n",
        "tokenizer.backend_tokenizer.pre_tokenizer.pre_tokenize_str(\"Hello, how are  you?\")"
      ]
    },
    {
      "cell_type": "markdown",
      "metadata": {
        "id": "GujFBUzuToxm"
      },
      "source": []
    },
    {
      "cell_type": "markdown",
      "metadata": {
        "id": "o7JHmWUqTo6A"
      },
      "source": [
        "# What is normalization?"
      ]
    },
    {
      "cell_type": "code",
      "execution_count": null,
      "metadata": {
        "id": "wU0egv5mTqKO"
      },
      "outputs": [],
      "source": [
        "from transformers import AutoTokenizer\n",
        "\n",
        "text = \"This is a text with àccënts and CAPITAL LETTERS\"\n",
        "\n",
        "# With saved normalizer\n",
        "tokenizer = AutoTokenizer.from_pretrained(\"albert-large-v2\")\n",
        "print(tokenizer.convert_ids_to_tokens(tokenizer.encode(text)))\n",
        "\n",
        "# Without saved normalizer\n",
        "tokenizer = AutoTokenizer.from_pretrained(\"huggingface-course/albert-tokenizer-without-normalizer\")\n",
        "print(tokenizer.convert_ids_to_tokens(tokenizer.encode(text)))"
      ]
    },
    {
      "cell_type": "code",
      "execution_count": null,
      "metadata": {
        "id": "ZX9MtEimUAvz"
      },
      "outputs": [],
      "source": [
        "text = \"un père indigné\"\n",
        "\n",
        "tokenizer = AutoTokenizerFast.from_pretrained('distilbert-base-uncased')\n",
        "print(tokenizer.backend_tokenizer.normalizer.normalize_str(text))"
      ]
    },
    {
      "cell_type": "markdown",
      "metadata": {
        "id": "cskczzJfUBUA"
      },
      "source": [
        "## What is pre-tokenization?\n",
        "\n"
      ]
    },
    {
      "cell_type": "code",
      "execution_count": null,
      "metadata": {
        "id": "dkRdnIbEawZc"
      },
      "outputs": [],
      "source": [
        "from transformers import AutoTokenizerFast\n",
        "\n",
        "tokenizer = AutoTokenizerFast.from_pretrained('albert-base-v1’)\n",
        "\n",
        "text = \"3.2.1: let's get started!\"\n",
        "\n",
        "print(tokenizer.backend_tokenizer.pre_tokenizer.pre_tokenize_str(text))"
      ]
    }
  ],
  "metadata": {
    "colab": {
      "collapsed_sections": [],
      "provenance": []
    },
    "language_info": {
      "name": "python"
    }
  },
  "nbformat": 4,
  "nbformat_minor": 0
}
