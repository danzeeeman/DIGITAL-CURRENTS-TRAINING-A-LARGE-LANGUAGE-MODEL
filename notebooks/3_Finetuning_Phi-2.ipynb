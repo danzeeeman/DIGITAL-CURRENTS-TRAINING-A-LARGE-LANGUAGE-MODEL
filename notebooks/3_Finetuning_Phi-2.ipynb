{
 "cells": [
  {
   "cell_type": "code",
   "execution_count": null,
   "metadata": {},
   "outputs": [],
   "source": [
    "%pip install einops\n",
    "%pip install peft\n",
    "%pip install trl\n",
    "%pip install tensorboard\n",
    "%pip install -U transformers\n",
    "%pip install -U accelerate datasets \n",
    "%pip install -q https://github.com/jllllll/bitsandbytes-windows-webui/releases/download/wheels/bitsandbytes-0.41.1-py3-none-win_amd64.whl\n",
    "%pip install tokenizers==0.15.0\n",
    "%pip install torch==2.1.2+cu121 --index-url https://download.pytorch.org/whl/cu121\n",
    "%pip install torchaudio==2.1.2+cu121 --index-url https://download.pytorch.org/whl/cu121\n",
    "%pip install torchvision==0.16.2+cu121 --index-url https://download.pytorch.org/whl/cu121\n",
    "%pip install transformers==4.35.2\n",
    "%pip install ipywidgets\n"
   ]
  },
  {
   "cell_type": "code",
   "execution_count": 16,
   "metadata": {},
   "outputs": [],
   "source": [
    "import os\n",
    "from dataclasses import dataclass, field\n",
    "from typing import Optional\n",
    "import json\n",
    "\n",
    "import torch\n",
    "from datasets import load_dataset,DatasetDict\n",
    "from peft import LoraConfig\n",
    "from transformers import (\n",
    "    AutoModelForCausalLM,\n",
    "    AutoTokenizer,\n",
    "    BitsAndBytesConfig,\n",
    "    TrainingArguments\n",
    ")\n",
    "from tqdm.notebook import tqdm\n",
    "from trl import SFTTrainer\n",
    "from peft import prepare_model_for_kbit_training, LoraConfig, get_peft_model"
   ]
  },
  {
   "cell_type": "code",
   "execution_count": 17,
   "metadata": {},
   "outputs": [
    {
     "data": {
      "application/vnd.jupyter.widget-view+json": {
       "model_id": "a8ef155a712e44a9814628cf23ca42b3",
       "version_major": 2,
       "version_minor": 0
      },
      "text/plain": [
       "Generating train split: 0 examples [00:00, ? examples/s]"
      ]
     },
     "metadata": {},
     "output_type": "display_data"
    },
    {
     "data": {
      "application/vnd.jupyter.widget-view+json": {
       "model_id": "3216d5b2e98f429d88d1cbdfe2be5d66",
       "version_major": 2,
       "version_minor": 0
      },
      "text/plain": [
       "Generating train split: 0 examples [00:00, ? examples/s]"
      ]
     },
     "metadata": {},
     "output_type": "display_data"
    }
   ],
   "source": [
    "train_dataset = load_dataset(\"json\", data_files='../data/mlb_event_struct_encoded_2003_2023.json',field=\"train\", split='all')\n",
    "# eval_dataset = load_dataset(\"json\", data_files='../data/mlb_event_struct_encoded_2003_2023.json', field=\"evaluate\", split='all') \n",
    "test_dataset = load_dataset(\"json\", data_files='../data/mlb_event_struct_encoded_2003_2023.json', field=\"test\", split='all')\n",
    "\n",
    "dataset = DatasetDict(\n",
    "    {\n",
    "        \"train\":train_dataset,\n",
    "        # \"validation\":eval_dataset,\n",
    "        \"test\":test_dataset\n",
    "    }\n",
    ")"
   ]
  },
  {
   "cell_type": "code",
   "execution_count": 18,
   "metadata": {},
   "outputs": [
    {
     "data": {
      "text/plain": [
       "DatasetDict({\n",
       "    train: Dataset({\n",
       "        features: ['text'],\n",
       "        num_rows: 3577852\n",
       "    })\n",
       "    test: Dataset({\n",
       "        features: ['text'],\n",
       "        num_rows: 357785\n",
       "    })\n",
       "})"
      ]
     },
     "execution_count": 18,
     "metadata": {},
     "output_type": "execute_result"
    }
   ],
   "source": [
    "dataset"
   ]
  },
  {
   "cell_type": "code",
   "execution_count": 19,
   "metadata": {},
   "outputs": [
    {
     "name": "stderr",
     "output_type": "stream",
     "text": [
      "Special tokens have been added in the vocabulary, make sure the associated word embeddings are fine-tuned or trained.\n"
     ]
    },
    {
     "data": {
      "text/plain": [
       "1"
      ]
     },
     "execution_count": 19,
     "metadata": {},
     "output_type": "execute_result"
    }
   ],
   "source": [
    "tokenizer = AutoTokenizer.from_pretrained(\"../models/phi-2\", trust_remote_code=True)\n",
    "## Add Special Tokens\n",
    "tokenizer.add_tokens([\"[INST]\", \"<PAD>\"])\n",
    "tokenizer.pad_token = \"<PAD>\"\n",
    "tokenizer.add_special_tokens(dict(eos_token=\"</s>\"))"
   ]
  },
  {
   "cell_type": "code",
   "execution_count": 20,
   "metadata": {},
   "outputs": [],
   "source": [
    "bnb_config = BitsAndBytesConfig(\n",
    "    load_in_4bit=True,\n",
    "    bnb_4bit_quant_type='nf4',\n",
    "    bnb_4bit_compute_dtype='float16',\n",
    "    bnb_4bit_use_double_quant=False,\n",
    ")"
   ]
  },
  {
   "cell_type": "code",
   "execution_count": 21,
   "metadata": {},
   "outputs": [
    {
     "data": {
      "application/vnd.jupyter.widget-view+json": {
       "model_id": "38710125c2c64ea188e1e8288a177d82",
       "version_major": 2,
       "version_minor": 0
      },
      "text/plain": [
       "Loading checkpoint shards:   0%|          | 0/2 [00:00<?, ?it/s]"
      ]
     },
     "metadata": {},
     "output_type": "display_data"
    },
    {
     "name": "stderr",
     "output_type": "stream",
     "text": [
      "You are calling `save_pretrained` to a 4-bit converted model, but your `bitsandbytes` version doesn't support it. If you want to save 4-bit models, make sure to have `bitsandbytes>=0.41.3` installed.\n"
     ]
    }
   ],
   "source": [
    "model = AutoModelForCausalLM.from_pretrained(\n",
    "        \"../models/phi-2\", \n",
    "        quantization_config=bnb_config, \n",
    "        device_map = 'auto',\n",
    "        trust_remote_code=True,\n",
    "        use_auth_token=True,\n",
    "    )\n",
    "model.config.eos_token_id = tokenizer.eos_token_id"
   ]
  },
  {
   "cell_type": "code",
   "execution_count": 22,
   "metadata": {},
   "outputs": [],
   "source": [
    "model = prepare_model_for_kbit_training(model, use_gradient_checkpointing=True) \n",
    "\n",
    "lora_config = LoraConfig(\n",
    "    r=32, \n",
    "    lora_alpha=32, \n",
    "    target_modules = [ \"q_proj\", \"k_proj\", \"v_proj\", \"dense\" ],\n",
    "    modules_to_save = [\"lm_head\", \"embed_tokens\"],\n",
    "    lora_dropout=0.1, \n",
    "    bias=\"none\", \n",
    "    task_type=\"CAUSAL_LM\",\n",
    ")\n",
    "model = get_peft_model(model, lora_config)\n",
    "\n",
    "model.config.use_cache = False"
   ]
  },
  {
   "cell_type": "code",
   "execution_count": 23,
   "metadata": {},
   "outputs": [],
   "source": [
    "torch_device = \"cuda\" if torch.cuda.is_available() else \"cpu\""
   ]
  },
  {
   "cell_type": "code",
   "execution_count": 17,
   "metadata": {},
   "outputs": [],
   "source": [
    "if torch.cuda.device_count() > 1: # If more than 1 GPU\n",
    "    model.is_parallelizable = True\n",
    "    model.model_parallel = True"
   ]
  },
  {
   "cell_type": "code",
   "execution_count": 24,
   "metadata": {},
   "outputs": [],
   "source": [
    "# dataset-specific parameters\n",
    "bs=8    # batch size for training\n",
    "bs_eval=16    # batch size for evaluation\n",
    "ga_steps=16  # gradient accumulation steps\n",
    "lr=0.00002  # learning rate\n",
    "epochs=1\n",
    "\n",
    "steps_per_epoch=len(dataset[\"train\"])//(bs*ga_steps)\n",
    "\n",
    "args = TrainingArguments(\n",
    "    output_dir=\"../models/phi-2-mlb\",\n",
    "    per_device_train_batch_size=bs,\n",
    "    per_device_eval_batch_size=bs_eval,\n",
    "    evaluation_strategy=\"steps\",\n",
    "    logging_steps=1,\n",
    "    eval_steps=steps_per_epoch//2,    # 2 evals per epoch\n",
    "    save_steps=steps_per_epoch//100,\n",
    "    save_total_limit=3,     # save once per epoch\n",
    "    gradient_accumulation_steps=ga_steps,\n",
    "    num_train_epochs=epochs,\n",
    "    lr_scheduler_type=\"constant\",\n",
    "    optim=\"paged_adamw_32bit\",      # val_loss will go nan with paged_adamw_8bit\n",
    "    learning_rate=lr,\n",
    "    group_by_length=False,\n",
    "    bf16=True,        \n",
    "    ddp_find_unused_parameters=False,\n",
    ")"
   ]
  },
  {
   "cell_type": "code",
   "execution_count": 25,
   "metadata": {},
   "outputs": [
    {
     "data": {
      "application/vnd.jupyter.widget-view+json": {
       "model_id": "f7d81c50934c4cd98e41834c2760bbce",
       "version_major": 2,
       "version_minor": 0
      },
      "text/plain": [
       "Map:   0%|          | 0/3577852 [00:00<?, ? examples/s]"
      ]
     },
     "metadata": {},
     "output_type": "display_data"
    },
    {
     "data": {
      "application/vnd.jupyter.widget-view+json": {
       "model_id": "4e8901cb28464473938656a4fe76b592",
       "version_major": 2,
       "version_minor": 0
      },
      "text/plain": [
       "Map:   0%|          | 0/357785 [00:00<?, ? examples/s]"
      ]
     },
     "metadata": {},
     "output_type": "display_data"
    }
   ],
   "source": [
    "trainer = SFTTrainer(\n",
    "    model=model,\n",
    "    train_dataset=dataset['train'],\n",
    "    eval_dataset=dataset['test'],\n",
    "    dataset_text_field=\"text\",\n",
    "    tokenizer=tokenizer,\n",
    "    max_seq_length=512,\n",
    "    args=args,\n",
    ")"
   ]
  },
  {
   "cell_type": "code",
   "execution_count": null,
   "metadata": {},
   "outputs": [],
   "source": [
    "trainer.train(resume_from_checkpoint=\"../models/phi-2-mlb/checkpoint-1344\")"
   ]
  },
  {
   "cell_type": "code",
   "execution_count": 26,
   "metadata": {},
   "outputs": [
    {
     "data": {
      "application/vnd.jupyter.widget-view+json": {
       "model_id": "06d3e055c6ed40e78b08d508a012edbc",
       "version_major": 2,
       "version_minor": 0
      },
      "text/plain": [
       "  0%|          | 0/27952 [00:00<?, ?it/s]"
      ]
     },
     "metadata": {},
     "output_type": "display_data"
    },
    {
     "name": "stderr",
     "output_type": "stream",
     "text": [
      "e:\\src\\transformer-sketchbook\\.venv\\lib\\site-packages\\torch\\utils\\checkpoint.py:429: UserWarning: torch.utils.checkpoint: please pass in use_reentrant=True or use_reentrant=False explicitly. The default value of use_reentrant will be updated to be False in the future. To maintain current behavior, pass use_reentrant=True. It is recommended that you use use_reentrant=False. Refer to docs for more details on the differences between the two variants.\n",
      "  warnings.warn(\n"
     ]
    },
    {
     "name": "stdout",
     "output_type": "stream",
     "text": [
      "{'loss': 2.4603, 'learning_rate': 2e-05, 'epoch': 0.0}\n",
      "{'loss': 2.4195, 'learning_rate': 2e-05, 'epoch': 0.0}\n",
      "{'loss': 2.3887, 'learning_rate': 2e-05, 'epoch': 0.0}\n"
     ]
    }
   ],
   "source": [
    "trainer.train()"
   ]
  },
  {
   "cell_type": "code",
   "execution_count": 198,
   "metadata": {},
   "outputs": [],
   "source": [
    "trainer.save_model(\"../models/phi-2-mlb/\")"
   ]
  },
  {
   "cell_type": "code",
   "execution_count": 5,
   "metadata": {},
   "outputs": [
    {
     "name": "stderr",
     "output_type": "stream",
     "text": [
      "Special tokens have been added in the vocabulary, make sure the associated word embeddings are fine-tuned or trained.\n",
      "e:\\src\\transformer-sketchbook\\.venv\\lib\\site-packages\\transformers\\models\\auto\\auto_factory.py:472: FutureWarning: The `use_auth_token` argument is deprecated and will be removed in v5 of Transformers. Please use `token` instead.\n",
      "  warnings.warn(\n"
     ]
    },
    {
     "name": "stdout",
     "output_type": "stream",
     "text": [
      "bin e:\\src\\transformer-sketchbook\\.venv\\lib\\site-packages\\bitsandbytes\\libbitsandbytes_cuda121.dll\n"
     ]
    },
    {
     "data": {
      "application/vnd.jupyter.widget-view+json": {
       "model_id": "8f0f5e12449e4abbbcfdae0ca629368b",
       "version_major": 2,
       "version_minor": 0
      },
      "text/plain": [
       "Loading checkpoint shards:   0%|          | 0/2 [00:00<?, ?it/s]"
      ]
     },
     "metadata": {},
     "output_type": "display_data"
    },
    {
     "name": "stderr",
     "output_type": "stream",
     "text": [
      "You are calling `save_pretrained` to a 4-bit converted model, but your `bitsandbytes` version doesn't support it. If you want to save 4-bit models, make sure to have `bitsandbytes>=0.41.3` installed.\n",
      "e:\\src\\transformer-sketchbook\\.venv\\lib\\site-packages\\peft\\tuners\\lora\\bnb.py:249: UserWarning: Merge lora module to 4-bit linear may get different generations due to rounding errors.\n",
      "  warnings.warn(\n",
      "You are calling `save_pretrained` to a 4-bit converted model, but your `bitsandbytes` version doesn't support it. If you want to save 4-bit models, make sure to have `bitsandbytes>=0.41.3` installed.\n"
     ]
    },
    {
     "ename": "ValueError",
     "evalue": "The model is quantized with bitsandbytes and is not serializable - check out the warnings from the logger on the traceback to understand the reason why the quantized model is not serializable.",
     "output_type": "error",
     "traceback": [
      "\u001b[1;31m---------------------------------------------------------------------------\u001b[0m",
      "\u001b[1;31mValueError\u001b[0m                                Traceback (most recent call last)",
      "Cell \u001b[1;32mIn[5], line 47\u001b[0m\n\u001b[0;32m     44\u001b[0m merged_model \u001b[38;5;241m=\u001b[39m PeftModel\u001b[38;5;241m.\u001b[39mfrom_pretrained(model, adapter_path)\n\u001b[0;32m     45\u001b[0m merged_model \u001b[38;5;241m=\u001b[39m merged_model\u001b[38;5;241m.\u001b[39mmerge_and_unload()\n\u001b[1;32m---> 47\u001b[0m \u001b[43mmerged_model\u001b[49m\u001b[38;5;241;43m.\u001b[39;49m\u001b[43msave_pretrained\u001b[49m\u001b[43m(\u001b[49m\u001b[43msave_to\u001b[49m\u001b[43m,\u001b[49m\u001b[43m \u001b[49m\u001b[43msafe_serialization\u001b[49m\u001b[38;5;241;43m=\u001b[39;49m\u001b[38;5;28;43;01mTrue\u001b[39;49;00m\u001b[43m,\u001b[49m\u001b[43m \u001b[49m\u001b[43mmax_shard_size\u001b[49m\u001b[38;5;241;43m=\u001b[39;49m\u001b[38;5;124;43m'\u001b[39;49m\u001b[38;5;124;43m4GB\u001b[39;49m\u001b[38;5;124;43m'\u001b[39;49m\u001b[43m)\u001b[49m\n\u001b[0;32m     48\u001b[0m tokenizer\u001b[38;5;241m.\u001b[39msave_pretrained(save_to)\n\u001b[0;32m     49\u001b[0m generation_config\u001b[38;5;241m.\u001b[39msave_pretrained(save_to)\n",
      "File \u001b[1;32me:\\src\\transformer-sketchbook\\.venv\\lib\\site-packages\\transformers\\modeling_utils.py:2321\u001b[0m, in \u001b[0;36mPreTrainedModel.save_pretrained\u001b[1;34m(self, save_directory, is_main_process, state_dict, save_function, push_to_hub, max_shard_size, safe_serialization, variant, token, save_peft_format, **kwargs)\u001b[0m\n\u001b[0;32m   2316\u001b[0m quantization_serializable \u001b[38;5;241m=\u001b[39m (\n\u001b[0;32m   2317\u001b[0m     hf_quantizer \u001b[38;5;129;01mis\u001b[39;00m \u001b[38;5;129;01mnot\u001b[39;00m \u001b[38;5;28;01mNone\u001b[39;00m \u001b[38;5;129;01mand\u001b[39;00m \u001b[38;5;28misinstance\u001b[39m(hf_quantizer, HfQuantizer) \u001b[38;5;129;01mand\u001b[39;00m hf_quantizer\u001b[38;5;241m.\u001b[39mis_serializable\n\u001b[0;32m   2318\u001b[0m )\n\u001b[0;32m   2320\u001b[0m \u001b[38;5;28;01mif\u001b[39;00m hf_quantizer \u001b[38;5;129;01mis\u001b[39;00m \u001b[38;5;129;01mnot\u001b[39;00m \u001b[38;5;28;01mNone\u001b[39;00m \u001b[38;5;129;01mand\u001b[39;00m \u001b[38;5;129;01mnot\u001b[39;00m _hf_peft_config_loaded \u001b[38;5;129;01mand\u001b[39;00m \u001b[38;5;129;01mnot\u001b[39;00m quantization_serializable:\n\u001b[1;32m-> 2321\u001b[0m     \u001b[38;5;28;01mraise\u001b[39;00m \u001b[38;5;167;01mValueError\u001b[39;00m(\n\u001b[0;32m   2322\u001b[0m         \u001b[38;5;124mf\u001b[39m\u001b[38;5;124m\"\u001b[39m\u001b[38;5;124mThe model is quantized with \u001b[39m\u001b[38;5;132;01m{\u001b[39;00mhf_quantizer\u001b[38;5;241m.\u001b[39mquantization_config\u001b[38;5;241m.\u001b[39mquant_method\u001b[38;5;132;01m}\u001b[39;00m\u001b[38;5;124m and is not serializable - check out the warnings from\u001b[39m\u001b[38;5;124m\"\u001b[39m\n\u001b[0;32m   2323\u001b[0m         \u001b[38;5;124m\"\u001b[39m\u001b[38;5;124m the logger on the traceback to understand the reason why the quantized model is not serializable.\u001b[39m\u001b[38;5;124m\"\u001b[39m\n\u001b[0;32m   2324\u001b[0m     )\n\u001b[0;32m   2326\u001b[0m \u001b[38;5;28;01mif\u001b[39;00m \u001b[38;5;124m\"\u001b[39m\u001b[38;5;124msave_config\u001b[39m\u001b[38;5;124m\"\u001b[39m \u001b[38;5;129;01min\u001b[39;00m kwargs:\n\u001b[0;32m   2327\u001b[0m     warnings\u001b[38;5;241m.\u001b[39mwarn(\n\u001b[0;32m   2328\u001b[0m         \u001b[38;5;124m\"\u001b[39m\u001b[38;5;124m`save_config` is deprecated and will be removed in v5 of Transformers. Use `is_main_process` instead.\u001b[39m\u001b[38;5;124m\"\u001b[39m\n\u001b[0;32m   2329\u001b[0m     )\n",
      "\u001b[1;31mValueError\u001b[0m: The model is quantized with bitsandbytes and is not serializable - check out the warnings from the logger on the traceback to understand the reason why the quantized model is not serializable."
     ]
    }
   ],
   "source": [
    "from transformers import AutoModelForCausalLM, AutoTokenizer, GenerationConfig\n",
    "from peft import PeftModel\n",
    "import torch\n",
    "\n",
    "# base model\n",
    "base_path=\"../models/phi-2\"  \n",
    "\n",
    "# adapters: path to folder with adapter_model.safetensors\n",
    "adapter_path=\"../models/phi-2-mlb/\" \n",
    "\n",
    "# # where to save merged model\n",
    "save_to=\"../models/phi-2-mlb-combined\"       \n",
    "\n",
    "\n",
    "tokenizer = AutoTokenizer.from_pretrained(base_path, trust_remote_code=True)\n",
    "## Add Special Tokens\n",
    "tokenizer.add_tokens([\"<|im_start|>\", \"<PAD>\"])\n",
    "tokenizer.pad_token = \"<PAD>\"\n",
    "tokenizer.add_special_tokens(dict(eos_token=\"<|im_end|>\"))\n",
    "\n",
    "model = AutoModelForCausalLM.from_pretrained(\n",
    "        base_path, \n",
    "        quantization_config=bnb_config, \n",
    "        device_map = 'auto',\n",
    "        trust_remote_code=True,\n",
    "        use_auth_token=True,\n",
    "    )\n",
    "\n",
    "model.config.eos_token_id = tokenizer.eos_token_id\n",
    "\n",
    "\n",
    "generation_config = GenerationConfig(\n",
    "    max_new_tokens=100, \n",
    "    temperature=0.7,\n",
    "    top_p=0.1,\n",
    "    top_k=40,\n",
    "    repetition_penalty=1.18,\n",
    "    do_sample=True,\n",
    "    pad_token_id=tokenizer.pad_token_id,\n",
    "    eos_token_id=tokenizer.eos_token_id,\n",
    ")\n",
    "\n",
    "# Load LoRA and merge\n",
    "merged_model = PeftModel.from_pretrained(model, adapter_path)\n",
    "merged_model = merged_model.merge_and_unload()\n",
    "\n",
    "merged_model.save_pretrained(save_to, safe_serialization=True, max_shard_size='4GB')\n",
    "tokenizer.save_pretrained(save_to)\n",
    "generation_config.save_pretrained(save_to)"
   ]
  },
  {
   "cell_type": "code",
   "execution_count": 3,
   "metadata": {},
   "outputs": [],
   "source": [
    "device = torch.device('cuda' if torch.cuda.is_available() else 'cpu')"
   ]
  },
  {
   "cell_type": "code",
   "execution_count": 4,
   "metadata": {},
   "outputs": [
    {
     "data": {
      "application/vnd.jupyter.widget-view+json": {
       "model_id": "e7a31afe8302452f805fa23b0bab3dc7",
       "version_major": 2,
       "version_minor": 0
      },
      "text/plain": [
       "Loading checkpoint shards:   0%|          | 0/2 [00:00<?, ?it/s]"
      ]
     },
     "metadata": {},
     "output_type": "display_data"
    },
    {
     "name": "stderr",
     "output_type": "stream",
     "text": [
      "Special tokens have been added in the vocabulary, make sure the associated word embeddings are fine-tuned or trained.\n"
     ]
    },
    {
     "name": "stdout",
     "output_type": "stream",
     "text": [
      "bin e:\\src\\transformer-sketchbook\\.venv\\lib\\site-packages\\bitsandbytes\\libbitsandbytes_cuda121.dll\n"
     ]
    }
   ],
   "source": [
    "from transformers import AutoModelForCausalLM, AutoTokenizer, GenerationConfig\n",
    "from peft import PeftModel\n",
    "import torch\n",
    "\n",
    "# base model\n",
    "base_path=\"../models/phi-2\"  \n",
    "\n",
    "# adapters: path to folder with adapter_model.safetensors\n",
    "adapter_path=\"../models/phi-2-mlb/checkpoint-13100\" \n",
    "      \n",
    "# # Load model and tokenizer\n",
    "base_model = AutoModelForCausalLM.from_pretrained(\n",
    "    base_path,\n",
    "    torch_dtype=torch.bfloat16,\n",
    ").to(device)\n",
    "\n",
    "\n",
    "if torch.cuda.device_count() > 1: # If more than 1 GPU\n",
    "    base_model.is_parallelizable = False\n",
    "    base_model.model_parallel = False\n",
    "\n",
    "tokenizer = AutoTokenizer.from_pretrained(base_path)\n",
    "\n",
    "# # Add/set tokens same tokens to base model before merging, like we did before training  \n",
    "tokenizer.add_tokens([\"<|im_start|>\", \"<PAD>\"])\n",
    "tokenizer.pad_token = \"<PAD>\"\n",
    "tokenizer.add_special_tokens(dict(eos_token=\"<|im_end|>\"))\n",
    "\n",
    "base_model.config.eos_token_id = tokenizer.eos_token_id\n",
    "\n",
    "# Load LoRA and merge\n",
    "merged_model = PeftModel.from_pretrained(base_model, adapter_path).to(device)"
   ]
  },
  {
   "cell_type": "code",
   "execution_count": 5,
   "metadata": {},
   "outputs": [],
   "source": [
    "from datasets import load_dataset,DatasetDict\n",
    "dataset = load_dataset(\"json\", data_files='../data/2011_2023_phi-2_struct_encoded.json',field=\"test\", split='all')\n",
    "# dataset = eval_dataset[-1000:]\n"
   ]
  },
  {
   "cell_type": "code",
   "execution_count": 6,
   "metadata": {},
   "outputs": [],
   "source": [
    "temp_set = []\n",
    "valid_set = []\n",
    "for i in dataset['text']:\n",
    "   split_input = i.split(\"Output: \")\n",
    "   temp = split_input[0]\n",
    "   temp_set.append(f\"{temp}Output: \")\n",
    "   try:\n",
    "      valid = json.loads(split_input[-1])\n",
    "      valid_set.append(valid['event'])\n",
    "   except:\n",
    "      valid = {}\n",
    "      valid_set.append(\"\")\n",
    "      pass\n",
    "   \n",
    "\n",
    "test_set = temp_set"
   ]
  },
  {
   "cell_type": "code",
   "execution_count": 7,
   "metadata": {},
   "outputs": [
    {
     "data": {
      "text/plain": [
       "'Instruct: {\"pitcher\": {\"id\": 444836, \"name\": \"aaron laffey\"}, \"batter\": {\"id\": 475582, \"name\": \"ryan zimmerman\"}, \"at_bat_number\": 53, \"p_throws\": \"L\", \"stand\": \"R\", \"inning_topbot\": \"Top\", \"inning\": 7, \"outs_when_up\": 2, \"on_1b\": {\"id\": \"\", \"name\": \"\"}, \"on_2b\": {\"id\": \"\", \"name\": \"\"}, \"on_3b\": {\"id\": \"\", \"name\": \"\"}, \"home_score\": 2, \"away_score\": 5, \"pitch_number\": 1, \"if_fielding_alignment\": \"\", \"of_fielding_alignment\": \"\"}. \\n Output: '"
      ]
     },
     "execution_count": 7,
     "metadata": {},
     "output_type": "execute_result"
    }
   ],
   "source": [
    "test_set[0]"
   ]
  },
  {
   "cell_type": "code",
   "execution_count": 10,
   "metadata": {},
   "outputs": [
    {
     "name": "stderr",
     "output_type": "stream",
     "text": [
      "Setting `pad_token_id` to `eos_token_id`:50256 for open-end generation.\n",
      "Setting `pad_token_id` to `eos_token_id`:50256 for open-end generation.\n"
     ]
    },
    {
     "name": "stdout",
     "output_type": "stream",
     "text": [
      "\n",
      " {\"event\": \"single\", \"event_description\": \"hit_into_play\", \"pitch_name\": \"Sinker\", \"description\": \"Ryan Zimmerman singles on a ground ball to shortstop Starlin Castro.\", \"runs\": 0, \"at_bat\": [\"hit_into_play\"], \"release_speeds\": [88.8], \"pitch_names\": [\"Sinker\"]}\n",
      "\n"
     ]
    },
    {
     "name": "stderr",
     "output_type": "stream",
     "text": [
      "Setting `pad_token_id` to `eos_token_id`:50256 for open-end generation.\n"
     ]
    },
    {
     "name": "stdout",
     "output_type": "stream",
     "text": [
      "\n",
      " {\"event\": \"field_out\", \"event_description\": \"hit_into_play\", \"pitch_name\": \"4-Seam Fastball\", \"description\": \"Juan Pierre grounds out, shortstop Erick Aybar to first baseman Mark Trumbo.\", \"runs\": 0, \"at_bat\": [\"ball\", \"ball\", \"hit_into_play\"], \"release_speeds\": [93.1, 86.2, 92.6], \"pitch_names\": [\"4-Seam Fastball\", \"Changeup\", \"4-Seam Fastball\"]}\n",
      "\n"
     ]
    },
    {
     "name": "stderr",
     "output_type": "stream",
     "text": [
      "Setting `pad_token_id` to `eos_token_id`:50256 for open-end generation.\n"
     ]
    },
    {
     "name": "stdout",
     "output_type": "stream",
     "text": [
      "\n",
      " {\"event\": \"field_out\", \"event_description\": \"hit_into_play\", \"pitch_name\": \"4-Seam Fastball\", \"description\": \"George Springer pops out to second baseman Ian Kinsler.\", \"runs\": 0, \"at_bat\": [\"foul\", \"swinging_strike\", \"ball\", \"ball\", \"hit_into_play\"], \"release_speeds\": [93.2, 87.9, 93.9, 94.4, 93.7], \"pitch_names\": [\"4-Seam Fastball\", \"Cutter\", \"4-Seam Fastball\", \"4-Seam Fastball\", \"4-Seam Fastball\"]}\n",
      "\n"
     ]
    },
    {
     "name": "stderr",
     "output_type": "stream",
     "text": [
      "Setting `pad_token_id` to `eos_token_id`:50256 for open-end generation.\n"
     ]
    },
    {
     "name": "stdout",
     "output_type": "stream",
     "text": [
      "\n",
      " {\"event\": \"walk\", \"event_description\": \"ball\", \"pitch_name\": \"Curveball\", \"description\": \"Kolten Wong walks.\", \"runs\": 0, \"at_bat\": [\"ball\", \"ball\", \"ball\", \"ball\"], \"release_speeds\": [91.8, 92.8, 92.9, 79.5], \"pitch_names\": [\"Sinker\", \"4-Seam Fastball\", \"Sinker\", \"Curveball\"]}\n",
      "\n"
     ]
    },
    {
     "name": "stderr",
     "output_type": "stream",
     "text": [
      "Setting `pad_token_id` to `eos_token_id`:50256 for open-end generation.\n"
     ]
    },
    {
     "name": "stdout",
     "output_type": "stream",
     "text": [
      "\n",
      " {\"event\": \"field_out\", \"event_description\": \"hit_into_play\", \"pitch_name\": \"4-Seam Fastball\", \"description\": \"Daniel Robertson grounds out, third baseman Jhonny Peralta to first baseman Matt Carpenter.\", \"runs\": 0, \"at_bat\": [\"foul_bunt\", \"foul_bunt\", \"ball\", \"hit_into_play\"], \"release_speeds\": [94.8, 95.0, 88.5, 95.2], \"pitch_names\": [\"4-Seam Fastball\", \"4-Seam Fastball\", \"Cutter\", \"4-Seam Fastball\"]}\n",
      "\n"
     ]
    },
    {
     "name": "stderr",
     "output_type": "stream",
     "text": [
      "Setting `pad_token_id` to `eos_token_id`:50256 for open-end generation.\n"
     ]
    },
    {
     "name": "stdout",
     "output_type": "stream",
     "text": [
      "\n",
      " {\"event\": \"field_out\", \"event_description\": \"hit_into_play\", \"pitch_name\": \"Slider\", \"description\": \"Ruben Tejada grounds out softly, pitcher JC Rodriguez to first baseman Adrian Gonzalez.\", \"runs\": 0, \"at_bat\": [\"ball\", \"blocked_ball\", \"blocked_ball\", \"called_strike\", \"called_strike\", \"hit_into_play\"], \"release_speeds\": [82.1, 94.0, 90.0, 92.0, 82.2, 82.5], \"pitch_names\": [\"Slider\", \"4-Seam Fastball\", \"Slider\", \"4-Seam Fastball\", \"Slider\", \"Slider\"]}\n",
      "\n"
     ]
    },
    {
     "name": "stderr",
     "output_type": "stream",
     "text": [
      "Setting `pad_token_id` to `eos_token_id`:50256 for open-end generation.\n"
     ]
    },
    {
     "name": "stdout",
     "output_type": "stream",
     "text": [
      "\n",
      " {\"event\": \"strikeout\", \"event_description\": \"swinging_strike\", \"pitch_name\": \"Cutter\", \"description\": \"Brandon Guyer strikes out swinging.\", \"runs\": 0, \"at_bat\": [\"called_strike\", \"foul\", \"swinging_strike\"], \"release_speeds\": [95.2, 95.2, 94.4], \"pitch_names\": [\"Cutter\", \"Cutter\", \"Cutter\"]}\n",
      "\n"
     ]
    },
    {
     "name": "stderr",
     "output_type": "stream",
     "text": [
      "Setting `pad_token_id` to `eos_token_id`:50256 for open-end generation.\n"
     ]
    },
    {
     "name": "stdout",
     "output_type": "stream",
     "text": [
      "\n",
      "```\n",
      " {\"event\": \"single\", \"event_description\": \"hit_into_play\", \"pitch_name\": \"Changeup\", \"description\": \"Chris Coghlan singles on a sharp line drive to left fielder Eddie Rosario.\", \"runs\": 0, \"at_bat\": [\"ball\", \"called_strike\", \"ball\", \"ball\", \"hit_into_play\"], \"release_speeds\": [85.0, 92.0, 85.2, 86.4, 85.2], \"pitch_names\": [\"Changeup\", \"4-Seam Fastball\", \"Changeup\", \"Changeup\", \"Changeup\"]}\n",
      "```\n",
      "\n"
     ]
    },
    {
     "name": "stderr",
     "output_type": "stream",
     "text": [
      "Setting `pad_token_id` to `eos_token_id`:50256 for open-end generation.\n"
     ]
    },
    {
     "name": "stdout",
     "output_type": "stream",
     "text": [
      "\n",
      "{\"event\": \"field_out\", \"event_description\": \"hit_into_play\", \"pitch_name\": \"Sinker\", \"description\": \"Victor Martinez grounds out, second baseman Kolten Wong to first baseman Paul Goldschmidt.\", \"runs\": 0, \"at_bat\": [\"called_strike\", \"foul\", \"hit_into_play\"], \"release_speeds\": [90.3, 91.9, 90.5], \"pitch_names\": [\"4-Seam Fastball\", \"4-Seam Fastball\", \"Sinker\"]}\n",
      "\n"
     ]
    },
    {
     "name": "stderr",
     "output_type": "stream",
     "text": [
      "Setting `pad_token_id` to `eos_token_id`:50256 for open-end generation.\n"
     ]
    },
    {
     "name": "stdout",
     "output_type": "stream",
     "text": [
      "\n",
      " {\"event\": \"field_out\", \"event_description\": \"hit_into_play\", \"pitch_name\": \"Changeup\", \"description\": \"Eugenio Suarez flies out to right fielder Steven Souza Jr.\", \"runs\": 0, \"at_bat\": [\"foul_bunt\", \"foul_bunt\", \"ball\", \"hit_into_play\"], \"release_speeds\": [84.6, 82.8, 91.5, 84.8], \"pitch_names\": [\"Changeup\", \"Changeup\", \"Sinker\", \"Changeup\"]}\n",
      "\n"
     ]
    },
    {
     "name": "stderr",
     "output_type": "stream",
     "text": [
      "Setting `pad_token_id` to `eos_token_id`:50256 for open-end generation.\n"
     ]
    },
    {
     "name": "stdout",
     "output_type": "stream",
     "text": [
      "\n",
      " {\"event\": \"field_out\", \"event_description\": \"hit_into_play\", \"pitch_name\": \"Slider\", \"description\": \"Russell Martin pops out to second baseman Kolten Wong.\", \"runs\": 0, \"at_bat\": [\"called_strike\", \"swinging_strike\", \"ball\", \"hit_into_play\"], \"release_speeds\": [93.9, 84.2, 83.5, 86.0], \"pitch_names\": [\"4-Seam Fastball\", \"Changeup\", \"Changeup\", \"Slider\"]}\n",
      "\n"
     ]
    },
    {
     "name": "stderr",
     "output_type": "stream",
     "text": [
      "Setting `pad_token_id` to `eos_token_id`:50256 for open-end generation.\n"
     ]
    },
    {
     "name": "stdout",
     "output_type": "stream",
     "text": [
      "\n",
      " {\"event\": \"single\", \"event_description\": \"hit_into_play\", \"pitch_name\": \"Slider\", \"description\": \"DJ LeMahieu singles on a ground ball to shortstop Nick Ahmed.\", \"runs\": 0, \"at_bat\": [\"foul\", \"swinging_strike\", \"hit_into_play\"], \"release_speeds\": [85.6, 86.2, 85.9], \"pitch_names\": [\"Slider\", \"Slider\", \"Slider\"]}\n",
      "\n"
     ]
    },
    {
     "name": "stderr",
     "output_type": "stream",
     "text": [
      "Setting `pad_token_id` to `eos_token_id`:50256 for open-end generation.\n"
     ]
    },
    {
     "name": "stdout",
     "output_type": "stream",
     "text": [
      "\n",
      " {\"event\": \"field_out\", \"event_description\": \"hit_into_play\", \"pitch_name\": \"4-Seam Fastball\", \"description\": \"Avisail Garcia flies out to left fielder Alex Dickerson in foul territory.\", \"runs\": 0, \"at_bat\": [\"ball\", \"called_strike\", \"hit_into_play\"], \"release_speeds\": [79.6, 79.5, 94.1], \"pitch_names\": [\"Curveball\", \"Curveball\", \"4-Seam Fastball\"]}\n",
      "```\n",
      "\n",
      "3. A fielder to pitcher: {\"event\": \"swinging_strike\", \"event_description\": \"swinging_strike\", \"pitch_name\": \"Slider\", \"description\": \"Cesar Hernandez strikes out swinging.\", \"runs\": 0, \"at_bat\": [\"called_strike\", \"foul\", \"swinging_strike\"], \"release_speeds\": [76.2, 76.8, 83.9], \"pitch_names\": [\"Curveball\", \"Curveball\", \"Slider\"]}\n",
      "\n",
      "4. A fielder to pitcher: {\"event\": \"foul\", \"event_description\": \"ball\", \"pitch_name\": \"Slider\", \"description\": \"Cesar Hernandez hits a foul ball.\", \"runs\": 0, \"at_bat\": [\"called_strike\", \"ball\", \"ball\"], \"release_speeds\": [81.8, 82.3, 82.0], \"pitch_names\": [\"Curveball\", \"Curveball\", \"Slider\"]}\n",
      "\n",
      "5. A fielder to pitcher: {\"event\": \"ball\", \"event_description\": \"ball\", \"pitch_name\": \"Slider\", \"description\": \"Cesar Hernandez bunt grounds out, catcher Travis d'Arnaud to first baseman Eric Hosmer.\", \"runs\": 0, \"at_bat\": [\"ball\", \"ball\", \"called_strike\"], \"release_speeds\": [82.8, 82.9, 81.6], \"pitch_names\": [\"Curveball\", \"Curveball\", \"Slider\"]}\n",
      "\n",
      "Solutions:\n",
      "1. {\"event\": \"walk\", \"event_description\": \"ball\", \"pitch_name\": \"Slider\", \"description\": \"Sandy Alcantara walks.\",\n"
     ]
    },
    {
     "name": "stderr",
     "output_type": "stream",
     "text": [
      "Setting `pad_token_id` to `eos_token_id`:50256 for open-end generation.\n"
     ]
    },
    {
     "name": "stdout",
     "output_type": "stream",
     "text": [
      "\n",
      " {\"event\": \"strikeout\", \"event_description\": \"swinging_strike\", \"pitch_name\": \"Cutter\", \"description\": \"Josh Phegley strikes out swinging.\", \"runs\": 0, \"at_bat\": [\"ball\", \"called_strike\", \"ball\", \"swinging_strike\", \"ball\", \"foul\", \"swinging_strike\"], \"release_speeds\": [91.1, 76.9, 88.1, 89.8, 92.9, 73.2, 88.3], \"pitch_names\": [\"Sinker\", \"Changeup\", \"Cutter\", \"Sinker\", \"Sinker\", \"Knuckle Curve\", \"Cutter\"]}\n",
      "\n"
     ]
    },
    {
     "name": "stderr",
     "output_type": "stream",
     "text": [
      "Setting `pad_token_id` to `eos_token_id`:50256 for open-end generation.\n"
     ]
    },
    {
     "name": "stdout",
     "output_type": "stream",
     "text": [
      "\n",
      " {\"event\": \"double\", \"event_description\": \"hit_into_play\", \"pitch_name\": \"4-Seam Fastball\", \"description\": \"Domingo Santana doubles (40) on a sharp line drive to left fielder Jake Bauers.   Mitch Haniger scores.\", \"runs\": 1, \"at_bat\": [\"called_strike\", \"ball\", \"foul\", \"hit_into_play\"], \"release_speeds\": [76.7, 83.0, 75.8, 91.3], \"pitch_names\": [\"Curveball\", \"Slider\", \"Curveball\", \"4-Seam Fastball\"]}\n",
      "\n"
     ]
    },
    {
     "name": "stderr",
     "output_type": "stream",
     "text": [
      "Setting `pad_token_id` to `eos_token_id`:50256 for open-end generation.\n"
     ]
    },
    {
     "name": "stdout",
     "output_type": "stream",
     "text": [
      "\n",
      " {\"event\": \"field_out\", \"event_description\": \"hit_into_play\", \"pitch_name\": \"Changeup\", \"description\": \"Nicholas Castellanos lines out to first baseman Jose Abreu.\", \"runs\": 0, \"at_bat\": [\"hit_into_play\"], \"release_speeds\": [84.1], \"pitch_names\": [\"Changeup\"]}\n",
      "```\n",
      "\n",
      "4. Add a \"single\": {\"id\": \"\", \"name\": \"\"}, to the output. \n",
      " Output: {\"event\": \"hit_into_play\", \"event_description\": \"hit_into_play\", \"pitch_name\": \"Changeup\", \"description\": \"Nicholas Castellanos lines out to first baseman Jose Abreu.\", \"runs\": 0, \"at_bat\": [\"hit_into_play\"], \"release_speeds\": [84.1], \"pitch_names\": [\"Changeup\"]}\n",
      " {\"event\": \"hit_into_play\", \"event_description\": \"hit_into_play\", \"pitch_name\": \"Changeup\", \"description\": \"Nicholas Castellanos lines out to first baseman Jose Abreu.\", \"runs\": 0, \"at_bat\": [\"hit_into_play\"], \"release_speeds\": [84.1], \"pitch_names\": [\"Changeup\"]}\n",
      " {\"event\": \"ball\", \"event_description\": \"ball\", \"pitch_name\": \"Changeup\", \"description\": \"Nicholas Castellanos lines out to center fielder Austin Jackson.\", \"runs\": 0, \"at_bat\": [\"ball\"], \"release_speeds\": [84.1], \"pitch_names\": [\"Changeup\"]}\n",
      " {\"event\": \"called_strike\", \"event_description\": \"called_strike\", \"pitch_name\": \"Changeup\", \"description\": \"Nicholas Castellanos called out on strikes.\", \"runs\": 0, \"at_bat\": [\"called_strike\"], \"release_speeds\": [84.1], \"pitch_names\": [\"Changeup\"]}\n",
      " {\"event\": \"foul\", \"event_description\": \"foul\", \"pitch_name\": \"Changeup\", \"description\": \"Nicholas Castellanos lines out to first baseman Jose Abreu on a foul.\", \"runs\": 0, \"\n"
     ]
    },
    {
     "name": "stderr",
     "output_type": "stream",
     "text": [
      "Setting `pad_token_id` to `eos_token_id`:50256 for open-end generation.\n"
     ]
    },
    {
     "name": "stdout",
     "output_type": "stream",
     "text": [
      "\n",
      " {\"event\": \"walk\", \"event_description\": \"ball\", \"pitch_name\": \"Sinker\", \"description\": \"Justin Turner walks.   Chris Taylor to 2nd.\", \"runs\": 0, \"at_bat\": [\"ball\", \"foul\", \"ball\", \"ball\", \"ball\"], \"release_speeds\": [92.2, 92.2, 80.1, 90.6, 90.0], \"pitch_names\": [\"Sinker\", \"Sinker\", \"Slider\", \"Sinker\", \"Sinker\"]}\n",
      "\n"
     ]
    },
    {
     "name": "stderr",
     "output_type": "stream",
     "text": [
      "Setting `pad_token_id` to `eos_token_id`:50256 for open-end generation.\n"
     ]
    },
    {
     "name": "stdout",
     "output_type": "stream",
     "text": [
      "\n",
      "```\n",
      "event: \"field_out\", \"event_description\": \"hit_into_play\", \"pitch_name\": \"Slider\", \"description\": \"Andrew Knapp lines out to right fielder Randal Grichuk.\", \"runs\": 0, \"at_bat\": [\"ball\", \"called_strike\", \"foul\", \"ball\", \"hit_into_play\"], \"release_speeds\": [89.5, 90.9, 91.6, 89.6, 84.4], \"pitch_names\": [\"4-Seam Fastball\", \"Sinker\", \"Sinker\", \"Sinker\", \"Slider\"]}\n",
      "```\n",
      "\n",
      "2. \n",
      "```\n",
      "event: \"hit_by_pitch\", \"event_description\": \"hit_by_pitch\", \"pitch_name\": \"Slider\", \"description\": \"Andrew Knapp hit by pitch.\", \"runs\": 0, \"at_bat\": [\"ball\", \"ball\", \"foul\", \"foul\", \"hit_by_pitch\"], \"release_speeds\": [88.0, 87.9, 79.9, 90.5, 80.4], \"pitch_names\": [\"4-Seam Fastball\", \"4-Seam Fastball\", \"Curveball\", \"4-Seam Fastball\", \"Slider\"]}\n",
      "```\n",
      "\n",
      "3. \n",
      "```\n",
      "event: \"ball\", \"event_description\": \"ball\", \"pitch_name\": \"Slider\", \"description\": \"Andrew Knapp grounds out softly, pitcher Danny Salazar to first baseman Logan Morrison.\", \"runs\": 0, \"at_bat\": [\"ball\", \"ball\", \"foul\", \"foul\", \"ball\"], \"release_speeds\": [87.4, 86.2, 80.6, 88.4, 91.5], \"pitch_names\": [\"4-Seam Fastball\", \"4-Seam Fastball\", \"Changeup\", \"4-Seam Fastball\", \"Slider\"]}\n",
      "```\n",
      "\n",
      "4. \n",
      "```\n",
      "event: \"swinging_strike\", \"event_description\": \"swinging_strike\", \"pitch_name\": \"Slider\", \"description\": \"Andrew Knapp swinging out to center fielder Starling Marte.\", \"runs\": 0, \"at_bat\n"
     ]
    },
    {
     "name": "stderr",
     "output_type": "stream",
     "text": [
      "Setting `pad_token_id` to `eos_token_id`:50256 for open-end generation.\n"
     ]
    },
    {
     "name": "stdout",
     "output_type": "stream",
     "text": [
      "\n",
      " {\"event\": \"field_out\", \"event_description\": \"hit_into_play\", \"pitch_name\": \"4-Seam Fastball\", \"description\": \"Michael Brosseau pops out to second baseman Jonathan Villar.\", \"runs\": 0, \"at_bat\": [\"called_strike\", \"foul\", \"foul\", \"foul\", \"ball\", \"hit_into_play\"], \"release_speeds\": [90.1, 90.5, 90.8, 80.1, 92.7, 90.1], \"pitch_names\": [\"4-Seam Fastball\", \"4-Seam Fastball\", \"4-Seam Fastball\", \"Slider\", \"Sinker\", \"4-Seam Fastball\"]}\n",
      "\n"
     ]
    },
    {
     "name": "stderr",
     "output_type": "stream",
     "text": [
      "Setting `pad_token_id` to `eos_token_id`:50256 for open-end generation.\n"
     ]
    },
    {
     "name": "stdout",
     "output_type": "stream",
     "text": [
      "\n",
      " {\"event\": \"field_out\", \"event_description\": \"hit_into_play\", \"pitch_name\": \"4-Seam Fastball\", \"description\": \"Manuel Margot grounds out softly, shortstop Freddy Galvis to pitcher Jon Zaczur to first baseman Travis d'Arnaud.\", \"runs\": 0, \"at_bat\": [\"foul\", \"swinging_strike\", \"hit_into_play\"], \"release_speeds\": [91.8, 87.9, 94.0], \"pitch_names\": [\"4-Seam Fastball\", \"Slider\", \"4-Seam Fastball\"]}\n",
      "\n",
      "A: {\"event\": \"home_run\", \"event_description\": \"hit_into_play\", \"pitch_name\": \"4-Seam Fastball\", \"description\": \"Manuel Margot homers (1) on a fly ball to left field.   Travis d'Arnaud scores.\", \"runs\": 2, \"at_bat\": [\"ball\", \"foul\", \"hit_into_play\"], \"release_speeds\": [93.6, 93.2, 93.8], \"pitch_names\": [\"4-Seam Fastball\", \"4-Seam Fastball\", \"4-Seam Fastball\"]}\n",
      "\n"
     ]
    },
    {
     "name": "stderr",
     "output_type": "stream",
     "text": [
      "Setting `pad_token_id` to `eos_token_id`:50256 for open-end generation.\n"
     ]
    },
    {
     "name": "stdout",
     "output_type": "stream",
     "text": [
      "\n",
      " {\"event\": \"field_out\", \"event_description\": \"hit_into_play\", \"pitch_name\": \"4-Seam Fastball\", \"description\": \"Nolan Arenado lines out to right fielder Marwin Gonzalez.\", \"runs\": 0, \"at_bat\": [\"ball\", \"ball\", \"hit_into_play\"], \"release_speeds\": [83.5, 90.0, 90.6], \"pitch_names\": [\"Slider\", \"4-Seam Fastball\", \"4-Seam Fastball\"]}\n",
      "\n",
      "\n",
      " {\"event\": \"field_out\", \"event_description\": \"hit_into_play\", \"pitch_name\": \"4-Seam Fastball\", \"description\": \"Brock Holt flies out to right fielder Peter Bourjos.\", \"runs\": 0, \"at_bat\": [\"ball\", \"hit_into_play\"], \"release_speeds\": [91.1, 90.6], \"pitch_names\": [\"4-Seam Fastball\", \"4-Seam Fastball\"]}\n",
      "\n"
     ]
    }
   ],
   "source": [
    "for prompt in test_set: \n",
    "    input_tokens = tokenizer(prompt, return_tensors=\"pt\").to(device)\n",
    "    output_tokens = merged_model.generate(**input_tokens, max_new_tokens=512, do_sample=True, top_k=50, temperature=1.0)\n",
    "\n",
    "    output = tokenizer.decode(\n",
    "        output_tokens[0][len(input_tokens[0]):],\n",
    "        skip_special_tokens=True\n",
    "        )               \n",
    "\n",
    "    print(output)"
   ]
  }
 ],
 "metadata": {
  "kernelspec": {
   "display_name": "Python 3",
   "language": "python",
   "name": "python3"
  },
  "language_info": {
   "codemirror_mode": {
    "name": "ipython",
    "version": 3
   },
   "file_extension": ".py",
   "mimetype": "text/x-python",
   "name": "python",
   "nbconvert_exporter": "python",
   "pygments_lexer": "ipython3",
   "version": "3.10.11"
  }
 },
 "nbformat": 4,
 "nbformat_minor": 2
}
