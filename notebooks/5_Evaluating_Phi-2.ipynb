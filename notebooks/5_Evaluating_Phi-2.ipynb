{
 "cells": [
  {
   "cell_type": "code",
   "execution_count": null,
   "metadata": {},
   "outputs": [],
   "source": [
    "import pandas as pd\n",
    "import numpy as np\n",
    "from sklearn.model_selection import train_test_split\n",
    "from sklearn.linear_model import LogisticRegression\n",
    "from sklearn import metrics\n",
    "import matplotlib.pyplot as plt\n",
    "\n",
    "single_csvfile = open(f'single_csvfile.csv', 'r', newline='')\n",
    "data = pd.read_csv(single_csvfile)\n",
    "\n",
    "#define the predictor variables and the response variable\n",
    "X = data[['batter', 'single']]\n",
    "y = data['got_single']\n",
    "\n",
    "#split the dataset into training (70%) and testing (30%) sets\n",
    "X_train,X_test,y_train,y_test = train_test_split(X,y,test_size=0.3,random_state=0) \n",
    "\n",
    "#instantiate the model\n",
    "log_single_regression = LogisticRegression()\n",
    "\n",
    "#fit the model using the training data\n",
    "log_single_regression.fit(X_train,y_train)\n",
    "\n",
    "#define metrics\n",
    "y_pred_proba = log_single_regression.predict_proba(X_test)[::,1]\n",
    "fpr, tpr, _ = metrics.roc_curve(y_test,  y_pred_proba)\n",
    "print(_)\n",
    "print(X_test)\n",
    "print(y_test)\n",
    "print(y_pred_proba)\n",
    "auc = metrics.roc_auc_score(y_test, y_pred_proba)\n",
    "\n",
    "#create ROC curve\n",
    "plt.plot(fpr,tpr,label=\"AUC=\"+str(auc))\n",
    "plt.ylabel('Single True Positive Rate')\n",
    "plt.xlabel('Single False Positive Rate')\n",
    "plt.legend(loc=4)\n",
    "plt.show()\n",
    "\n",
    "plt.plot(range(0, len(_)),_)\n",
    "plt.show()"
   ]
  }
 ],
 "metadata": {
  "language_info": {
   "name": "python"
  }
 },
 "nbformat": 4,
 "nbformat_minor": 2
}
