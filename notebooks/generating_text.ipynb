{
 "cells": [
  {
   "attachments": {},
   "cell_type": "markdown",
   "metadata": {},
   "source": [
    "## How to generate text: using different decoding methods for language generation with Transformers"
   ]
  },
  {
   "cell_type": "code",
   "execution_count": null,
   "metadata": {},
   "outputs": [],
   "source": [
    "%pip install -q transformers"
   ]
  },
  {
   "cell_type": "code",
   "execution_count": 1,
   "metadata": {},
   "outputs": [],
   "source": [
    "import math\n",
    "import random"
   ]
  },
  {
   "cell_type": "code",
   "execution_count": 12,
   "metadata": {},
   "outputs": [
    {
     "name": "stderr",
     "output_type": "stream",
     "text": [
      "If you want to use `RobertaLMHeadModel` as a standalone, add `is_decoder=True.`\n"
     ]
    }
   ],
   "source": [
    "from transformers import AutoModelForCausalLM,RobertaTokenizerFast\n",
    "import torch\n",
    "\n",
    "torch_device = \"cuda\" if torch.cuda.is_available() else \"cpu\"\n",
    "\n",
    "tokenizer = RobertaTokenizerFast(tokenizer_file=\"../models/mlb/tokenizer/baseball.json\")\n",
    "\n",
    "# add the EOS token as PAD token to avoid warnings\n",
    "model = AutoModelForCausalLM.from_pretrained(pretrained_model_name_or_path=\"../models/mlb/checkpoint-187000\", pad_token_id=tokenizer.eos_token_id).to(torch_device)"
   ]
  },
  {
   "cell_type": "code",
   "execution_count": 13,
   "metadata": {},
   "outputs": [],
   "source": [
    "prompt = f\"<s> ###instruction: what is the outcome of pitcher 663432 pitching to batter 596115 ###input: Top of the {math.floor(random.randrange(1, 10))} inning with {math.floor(random.randrange(0, 3))} outs ###output: 663432 throws a\""
   ]
  },
  {
   "attachments": {},
   "cell_type": "markdown",
   "metadata": {},
   "source": [
    "### Greedy Search"
   ]
  },
  {
   "cell_type": "code",
   "execution_count": 16,
   "metadata": {},
   "outputs": [
    {
     "name": "stdout",
     "output_type": "stream",
     "text": [
      "Output:\n",
      "----------------------------------------------------------------------------------------------------\n",
      "<s> ### instruction : what is the outcome of pitcher 663432 pitching to batter 596115 ### input : Top of the 7 inning with 2 outs ### output : 663432 throws a 88 miles per hour Slider for a strike, 663432 throws a 88 miles per hour Slider for a strike, 663432 throws a 88 miles per hour Slider for a ball, 663432 throws a 88 miles per hour Slider for a strike, 663432 throws a 88 miles per hour Slider for a strike, 663432 throws a 88 miles per hour Slider for a strike, 663432 throws a 88 miles per hour Slider for a strike, 663432 throws a 98 miles per hour Sinker for a strike, 663432 throws\n"
     ]
    }
   ],
   "source": [
    "# encode context the generation is conditioned on\n",
    "model_inputs = tokenizer(prompt, return_tensors='pt').to(torch_device)\n",
    "\n",
    "# generate 40 new tokens\n",
    "greedy_output = model.generate(**model_inputs, max_new_tokens=95)\n",
    "\n",
    "print(\"Output:\\n\" + 100 * '-')\n",
    "print(tokenizer.decode(greedy_output[0], skip_special_tokens=False))"
   ]
  },
  {
   "attachments": {},
   "cell_type": "markdown",
   "metadata": {},
   "source": [
    "### Beam search\n"
   ]
  },
  {
   "cell_type": "code",
   "execution_count": 62,
   "metadata": {},
   "outputs": [
    {
     "name": "stdout",
     "output_type": "stream",
     "text": [
      "Output:\n",
      "----------------------------------------------------------------------------------------------------\n",
      "### instruction : what is the outcome of pitcher 663432 pitching to batter 596115 ### input : Top of the 5 inning with 1 outs ### output : 663432 throws a 98 miles per hour Sinker for a strike, 663432 throws a 98 miles per hour Sinker for for strike, 663432 throws a 99 miles per hour Sinker for a strike, 671083 throws a 99 miles per hour Sinker for a ball, 663432 throws a 100 miles per hour Sinker for a ball, 671083 throws a 100 miles per hour Sinker and 596115 hits a single, event : single, event : single, event : single single, event : single, event :\n",
      "### instruction : what is the outcome of pitcher 663432 pitching to batter 596115 ### input : Top of the 8 inning with 0 outs ### output : 663432 throws a 88 miles per hour Slider for a strike, 663432 throws a 88 miles per hour Slider for for strike, 663432 throws a 88 miles per hour Cutter for a ball, 663432 throws a 88 miles per hour Slider and 596115 hits a double, event : double, event : double,, event : double play, event : double play, play, event : double play, event : double double play, event : double play,, event : double play,\n",
      "### instruction : what is the outcome of pitcher 663432 pitching to batter 596115 ### input : Top of the 2 inning with 2 outs ### output : 663432 throws a 84 miles per hour Slider for a strike, 663432 throws a 83 miles per hour Slider for a strike, 606149 throws a 83 miles per hour Slider for a ball, 663432 throws a 83 miles per hour Slider and 596115 strikeout, event : strikeout, event : strikeout,, event : strikeout, strikeout, event : strikeout, play, event : strikeout double play, event : double play play play play play play play play, event : double play, event\n",
      "### instruction : what is the outcome of pitcher 663432 pitching to batter 596115 ### input : Top of the 2 inning with 2 outs ### output : 663432 throws a 84 miles per hour Slider for a strike, 663432 throws a 83 miles per hour Slider for a strike, 606149 throws a 83 miles per hour Slider for a ball, 663432 throws a 83 miles per hour Slider and 596115 strikeout, event : strikeout, event : strikeout,, event : strikeout, strikeout, event : strikeout, play, event : strikeout double play, event : double play play play play play play play play, event : double play, event\n",
      "### instruction : what is the outcome of pitcher 663432 pitching to batter 596115 ### input : Top of the 6 inning with 1 outs ### output : 663432 throws a 88 miles per hour Slider for a strike, 663432 throws a 88 miles per hour Slider for for strike, 663432 throws a 88 miles per hour Changeup for a ball, 663432 throws a 88 miles per hour Slider and 596115 hits into a field out, event : field out, event : field out,, : field out, event : field out, 435400 throws a 88 miles per hour Slider and 596115 into into field out, event : field out, event\n",
      "### instruction : what is the outcome of pitcher 663432 pitching to batter 596115 ### input : Top of the 7 inning with 0 outs ### output : 663432 throws a 88 miles per hour Slider for a strike, 663432 throws a 88 miles per hour Slider for stealing strike, 663432 throws a 89 miles per hour Slider for a ball, 663432 throws a 87 miles per hour Slider for a strike, 663432 walks, event : strikeout, event : strikeout,, strikeout,, : strikeout,, event : strikeout,, strikeout, event : strikeout,, event : strikeout, play, event : strikeout double play, event :\n",
      "### instruction : what is the outcome of pitcher 663432 pitching to batter 596115 ### input : Top of the 9 inning with 1 outs ### output : 663432 throws a 98 miles per hour Sinker for a strike, 663432 throws a 98 miles per hour Sinker for for strike, 663432 throws a 99 miles per hour Sinker for a strike, 641712 throws a 99 miles per hour Sinker for a ball, 663432 throws a 98 miles per hour Sinker and 596115 strikeout, event : strikeout, event : strikeout, strikeout, event : strikeout,,, event : strikeout, play, event : strikeout double play, event : strikeout double play\n",
      "### instruction : what is the outcome of pitcher 663432 pitching to batter 596115 ### input : Top of the 1 inning with 1 outs ### output : 663432 throws a 86 miles per hour Slider for a strike, 663432 throws a 85 miles per hour Slider for a strike and 596115 strikeout, event : strikeout, strikeout, strikeout, strikeout, strikeout, event : strikeout,, : strikeout,,, strikeout, event : strikeout, event : strikeout,, strikeout,, : strikeout,, event : strikeout,, event : strikeout, strikeout, strikeout, event : strikeout double play, event : strikeout double play, event\n",
      "### instruction : what is the outcome of pitcher 663432 pitching to batter 596115 ### input : Top of the 3 inning with 1 outs ### output : 663432 throws a 94 miles per hour Sinker for a strike, 573186 throws a 94 miles per hour Sinker for a ball, 573186 throws a 92 miles per hour Cutter for a strike, 573186 throws a 92 miles per hour Sinker for a Sinker for 596115 strike, event : strikeout, strikeout, event : strikeout, play, event : strikeout double play play play, strikeout double play, event : strikeout double play, event : double play play, event : strikeout double play,\n",
      "### instruction : what is the outcome of pitcher 663432 pitching to batter 596115 ### input : Top of the 4 inning with 0 outs ### output : 663432 throws a 86 miles per hour Slider for a strike, 663432 throws a 94 miles per hour Sinker for a strike, 656548 throws a 94 miles per hour Sinker for a ball, 656548 throws a 94 miles per hour Sinker Sinker a strike, 656548 throws a 86 miles per hour Slider for a Slider and 596115 strikeout, event : strikeout, event : strikeout,, event : strikeout, event : strikeout, strikeout, event : strikeout,,, event : strikeout, event\n",
      "### instruction : what is the outcome of pitcher 663432 pitching to batter 596115 ### input : Top of the 9 inning with 2 outs ### output : 663432 throws a 98 miles per hour Sinker for a strike, 663432 throws a 98 miles per hour Sinker for for strike, 663432 throws a 99 miles per hour Sinker for a strike, 641712 throws a 99 miles per hour Sinker for a ball, 663432 throws a 98 miles per hour Sinker and 596115 hits into a field out, event : field out, event : field out,, : field out, event : field out, 663432 : field out, event : field out\n",
      "### instruction : what is the outcome of pitcher 663432 pitching to batter 596115 ### input : Top of the 6 inning with 0 outs ### output : 663432 throws a 88 miles per hour Slider for a strike, 663432 throws a 88 miles per hour Slider for stealing strike, 663432 throws a 89 miles per hour Slider for a ball, 663432 throws a 87 miles per hour Slider for a strike, 663432 walks, event : strikeout, event : strikeout,, strikeout,, : strikeout,, event : strikeout,, strikeout, event : strikeout,, event : strikeout, play, event : strikeout double play, event :\n",
      "### instruction : what is the outcome of pitcher 663432 pitching to batter 596115 ### input : Top of the 3 inning with 1 outs ### output : 663432 throws a 94 miles per hour Sinker for a strike, 573186 throws a 94 miles per hour Sinker for a ball, 573186 throws a 92 miles per hour Cutter for a strike, 573186 throws a 92 miles per hour Sinker for a Sinker for 596115 strike, event : strikeout, strikeout, event : strikeout, play, event : strikeout double play play play, strikeout double play, event : strikeout double play, event : double play play, event : strikeout double play,\n",
      "### instruction : what is the outcome of pitcher 663432 pitching to batter 596115 ### input : Top of the 7 inning with 0 outs ### output : 663432 throws a 88 miles per hour Slider for a strike, 663432 throws a 88 miles per hour Slider for stealing strike, 663432 throws a 89 miles per hour Slider for a ball, 663432 throws a 87 miles per hour Slider for a strike, 663432 walks, event : strikeout, event : strikeout,, strikeout,, : strikeout,, event : strikeout,, strikeout, event : strikeout,, event : strikeout, play, event : strikeout double play, event :\n",
      "### instruction : what is the outcome of pitcher 663432 pitching to batter 596115 ### input : Top of the 8 inning with 0 outs ### output : 663432 throws a 88 miles per hour Slider for a strike, 663432 throws a 88 miles per hour Slider for for strike, 663432 throws a 88 miles per hour Cutter for a ball, 663432 throws a 88 miles per hour Slider and 596115 hits a double, event : double, event : double,, event : double play, event : double play, play, event : double play, event : double double play, event : double play,, event : double play,\n",
      "### instruction : what is the outcome of pitcher 663432 pitching to batter 596115 ### input : Top of the 7 inning with 1 outs ### output : 663432 throws a 88 miles per hour Slider for a strike, 663432 throws a 88 miles per hour Slider for stealing strike, 663432 throws a 88 miles per hour Changeup for a ball, 663432 throws a 88 miles per hour Slider and 596115 hits into a field out, event : field out, event : field out,, : field out, event : field out, field out, event : field out, event field out, event : field out, field : field out\n",
      "### instruction : what is the outcome of pitcher 663432 pitching to batter 596115 ### input : Top of the 6 inning with 2 outs ### output : 663432 throws a 88 miles per hour Slider for a strike, 663432 throws a 88 miles per hour Slider for for strike, 663432 throws a 88 miles per hour Changeup for a ball, 663432 throws a 88 miles per hour Slider and 596115 hits into a field out, event : field out, event : field out,, : field out, event : field out, field out, event : field out, event field out, event : field out, field : field out\n",
      "### instruction : what is the outcome of pitcher 663432 pitching to batter 596115 ### input : Top of the 4 inning with 1 outs ### output : 663432 throws a 94 miles per hour Sinker for a strike, 573186 throws a 94 miles per hour Sinker for a ball, 573186 throws a 90 miles per hour Cutter for a strike, 573186 throws a 90 miles per hour Changeup for a Changeup for 596115 strike, event : strikeout,, strikeout, strikeout, strikeout, event : strikeout, play, strikeout, strikeout, play, event : strikeout triple play, event : strikeout double play, event : strikeout double play, event\n",
      "### instruction : what is the outcome of pitcher 663432 pitching to batter 596115 ### input : Top of the 4 inning with 0 outs ### output : 663432 throws a 86 miles per hour Slider for a strike, 663432 throws a 94 miles per hour Sinker for a strike, 656548 throws a 94 miles per hour Sinker for a ball, 656548 throws a 94 miles per hour Sinker Sinker a strike, 656548 throws a 86 miles per hour Slider for a Slider and 596115 strikeout, event : strikeout, event : strikeout,, event : strikeout, event : strikeout, strikeout, event : strikeout,,, event : strikeout, event\n",
      "### instruction : what is the outcome of pitcher 663432 pitching to batter 596115 ### input : Top of the 3 inning with 0 outs ### output : 663432 throws a 84 miles per hour Slider for a strike, 663432 throws a 83 miles per hour Slider for a strike, 606149 throws a 83 miles per hour Slider for a ball, 663432 throws a 83 miles per hour Slider and 596115 strikeout, event : strikeout, event : strikeout,, event : strikeout, play, event : strikeout double play, event : double play,, event : double play play, event : double play, event : double play play play,\n",
      "### instruction : what is the outcome of pitcher 663432 pitching to batter 596115 ### input : Top of the 8 inning with 1 outs ### output : 663432 throws a 88 miles per hour Slider for a strike, 663432 throws a 88 miles per hour Slider for for strike, 663432 throws a 88 miles per hour Cutter for a ball, 663432 throws a 88 miles per hour Slider and 596115 hits into a field out, event : field out, event : field out, out, event : field out, event : a out, out, event : field out, hits throws a field out, event : field out,,\n",
      "### instruction : what is the outcome of pitcher 663432 pitching to batter 596115 ### input : Top of the 6 inning with 2 outs ### output : 663432 throws a 88 miles per hour Slider for a strike, 663432 throws a 88 miles per hour Slider for for strike, 663432 throws a 88 miles per hour Changeup for a ball, 663432 throws a 88 miles per hour Slider and 596115 hits into a field out, event : field out, event : field out,, : field out, event : field out, field out, event : field out, event field out, event : field out, field : field out\n",
      "### instruction : what is the outcome of pitcher 663432 pitching to batter 596115 ### input : Top of the 2 inning with 1 outs ### output : 663432 throws a 98 miles per hour Sinker for a strike, 622491 throws a 98 miles per hour Sinker for a ball, 622491 throws a 88 miles per hour Slider for a strike, 622491 throws a 89 miles per hour Changeup for a strike, 622491 throws a 90 miles per hour Slider for a ball, 622491 throws a 90 miles per hour Changeup for a strike and 596115 strikeout, event : strikeout, event : strikeout,, : strikeout, event : strikeout, event :\n",
      "### instruction : what is the outcome of pitcher 663432 pitching to batter 596115 ### input : Top of the 6 inning with 0 outs ### output : 663432 throws a 88 miles per hour Slider for a strike, 663432 throws a 88 miles per hour Slider for stealing strike, 663432 throws a 89 miles per hour Slider for a ball, 663432 throws a 87 miles per hour Slider for a strike, 663432 walks, event : strikeout, event : strikeout,, strikeout,, : strikeout,, event : strikeout,, strikeout, event : strikeout,, event : strikeout, play, event : strikeout double play, event :\n",
      "### instruction : what is the outcome of pitcher 663432 pitching to batter 596115 ### input : Top of the 8 inning with 2 outs ### output : 663432 throws a 88 miles per hour Slider for a strike, 663432 throws a 88 miles per hour Slider for for strike, 663432 throws a 88 miles per hour Cutter for a ball, 663432 throws a 88 miles per hour Slider and 596115 hits into a field out, event : field out, event : field out, out, event : field out, event : a out, out, event : field out, hits throws a field out, event : field out,,\n"
     ]
    }
   ],
   "source": [
    "\n",
    "print(\"Output:\\n\" + 100 * '-')\n",
    "for i in range(0, 25):# activate beam search and early_stopping\n",
    "    prompt = f\"<s> ###instruction: what is the outcome of pitcher 663432 pitching to batter 596115 ###input: Top of the {math.floor(random.randrange(1, 10))} inning with {math.floor(random.randrange(0, 3))} outs ###output: 663432 throws a\"\n",
    "    model_inputs = tokenizer(prompt, return_tensors='pt').to(torch_device)\n",
    "    beam_output = model.generate(\n",
    "        **model_inputs,\n",
    "        max_new_tokens=90,\n",
    "        no_repeat_ngram_size=10,\n",
    "        num_beams=5,\n",
    "        early_stopping=True\n",
    "    )\n",
    "    print(tokenizer.decode(beam_output[0], skip_special_tokens=True))"
   ]
  },
  {
   "cell_type": "code",
   "execution_count": 26,
   "metadata": {},
   "outputs": [
    {
     "name": "stdout",
     "output_type": "stream",
     "text": [
      "Output:\n",
      "----------------------------------------------------------------------------------------------------\n",
      "### instruction : what is the outcome of pitcher 663432 pitching to batter 596115 ### input : Top of the 7 inning with 2 outs ### output : 663432 throws a 88 miles per hour Slider for a strike, 663432 throws a 88 miles per hour Slider for stealing strike, 663432 throws a 88 miles per hour Changeup for a ball, 663432 throws a 88 miles per hour Slider and 596115 hits into a field out, event : field out, event : field out, out, event : field out\n"
     ]
    }
   ],
   "source": [
    "beam_output = model.generate(\n",
    "    **model_inputs,\n",
    "    max_new_tokens=65,\n",
    "    num_beams=5,\n",
    "    no_repeat_ngram_size=10,\n",
    "    early_stopping=True\n",
    ")\n",
    "\n",
    "print(\"Output:\\n\" + 100 * '-')\n",
    "print(tokenizer.decode(beam_output[0], skip_special_tokens=True))"
   ]
  },
  {
   "cell_type": "code",
   "execution_count": null,
   "metadata": {},
   "outputs": [],
   "source": [
    "# set return_num_sequences > 1\n",
    "beam_outputs = model.generate(\n",
    "    **model_inputs,\n",
    "    max_new_tokens=40,\n",
    "    num_beams=5,\n",
    "    no_repeat_ngram_size=2,\n",
    "    num_return_sequences=5,\n",
    "    early_stopping=True\n",
    ")\n",
    "\n",
    "# now we have 3 output sequences\n",
    "print(\"Output:\\n\" + 100 * '-')\n",
    "for i, beam_output in enumerate(beam_outputs):\n",
    "  print(\"{}: {}\".format(i, tokenizer.decode(beam_output, skip_special_tokens=True)))"
   ]
  },
  {
   "attachments": {},
   "cell_type": "markdown",
   "metadata": {},
   "source": [
    "### Sampling"
   ]
  },
  {
   "cell_type": "code",
   "execution_count": null,
   "metadata": {},
   "outputs": [],
   "source": [
    "from transformers import set_seed\n",
    "set_seed(42)\n",
    "\n",
    "# activate sampling and deactivate top_k by setting top_k sampling to 0\n",
    "sample_output = model.generate(\n",
    "    **model_inputs,\n",
    "    max_new_tokens=40,\n",
    "    do_sample=True,\n",
    "    top_k=0\n",
    ")\n",
    "\n",
    "print(\"Output:\\n\" + 100 * '-')\n",
    "print(tokenizer.decode(sample_output[0], skip_special_tokens=True))"
   ]
  },
  {
   "cell_type": "code",
   "execution_count": null,
   "metadata": {},
   "outputs": [],
   "source": [
    "# set seed to reproduce results. Feel free to change the seed though to get different results\n",
    "set_seed(42)\n",
    "\n",
    "# use temperature to decrease the sensitivity to low probability candidates\n",
    "sample_output = model.generate(\n",
    "    **model_inputs,\n",
    "    max_new_tokens=40,\n",
    "    do_sample=True,\n",
    "    top_k=0,\n",
    "    temperature=0.6,\n",
    ")\n",
    "\n",
    "print(\"Output:\\n\" + 100 * '-')\n",
    "print(tokenizer.decode(sample_output[0], skip_special_tokens=True))"
   ]
  },
  {
   "attachments": {},
   "cell_type": "markdown",
   "metadata": {},
   "source": [
    "### Top-K Sampling"
   ]
  },
  {
   "cell_type": "code",
   "execution_count": null,
   "metadata": {},
   "outputs": [],
   "source": [
    "# set seed to reproduce results. Feel free to change the seed though to get different results\n",
    "set_seed(42)\n",
    "\n",
    "# set top_k to 50\n",
    "sample_output = model.generate(\n",
    "    **model_inputs,\n",
    "    max_new_tokens=40,\n",
    "    do_sample=True,\n",
    "    top_k=50\n",
    ")\n",
    "\n",
    "print(\"Output:\\n\" + 100 * '-')\n",
    "print(tokenizer.decode(sample_output[0], skip_special_tokens=True))"
   ]
  },
  {
   "attachments": {},
   "cell_type": "markdown",
   "metadata": {},
   "source": [
    "### Top-p (nucleus) sampling"
   ]
  },
  {
   "cell_type": "code",
   "execution_count": null,
   "metadata": {},
   "outputs": [],
   "source": [
    "# set seed to reproduce results. Feel free to change the seed though to get different results\n",
    "set_seed(42)\n",
    "\n",
    "# set top_k to 50\n",
    "sample_output = model.generate(\n",
    "    **model_inputs,\n",
    "    max_new_tokens=40,\n",
    "    do_sample=True,\n",
    "    top_p=0.92,\n",
    "    top_k=0\n",
    ")\n",
    "\n",
    "print(\"Output:\\n\" + 100 * '-')\n",
    "print(tokenizer.decode(sample_output[0], skip_special_tokens=True))"
   ]
  },
  {
   "cell_type": "code",
   "execution_count": null,
   "metadata": {},
   "outputs": [],
   "source": [
    "# set seed to reproduce results. Feel free to change the seed though to get different results\n",
    "set_seed(42)\n",
    "\n",
    "# set top_k = 50 and set top_p = 0.95 and num_return_sequences = 3\n",
    "sample_outputs = model.generate(\n",
    "    **model_inputs,\n",
    "    max_new_tokens=40,\n",
    "    do_sample=True,\n",
    "    top_k=50,\n",
    "    top_p=0.95,\n",
    "    num_return_sequences=3,\n",
    ")\n",
    "\n",
    "print(\"Output:\\n\" + 100 * '-')\n",
    "for i, sample_output in enumerate(sample_outputs):\n",
    "  print(\"{}: {}\".format(i, tokenizer.decode(sample_output, skip_special_tokens=True)))"
   ]
  },
  {
   "attachments": {},
   "cell_type": "markdown",
   "metadata": {},
   "source": [
    "### Save a custom decoding strategy with your model"
   ]
  },
  {
   "cell_type": "code",
   "execution_count": null,
   "metadata": {},
   "outputs": [],
   "source": [
    "from transformers import AutoModelForCausalLM, GenerationConfig\n",
    "\n",
    "model = AutoModelForCausalLM.from_pretrained(\"my_account/my_model\")\n",
    "generation_config = GenerationConfig(\n",
    "    max_new_tokens=50, do_sample=True, top_k=50, eos_token_id=model.config.eos_token_id\n",
    ")\n",
    "generation_config.save_pretrained(\"my_account/my_model\", push_to_hub=True)"
   ]
  },
  {
   "cell_type": "code",
   "execution_count": null,
   "metadata": {},
   "outputs": [],
   "source": [
    "import json\n",
    "from transformers import set_seed\n",
    "\n",
    "\n",
    "with open(f'../data/baseball_testing_prmopts_return.json', 'r', encoding='utf-8') as f:\n",
    "    inputs = json.load(f)\n",
    "    for data in inputs['data']:\n",
    "        print(\"Input:\\n\" + 100 * '-')\n",
    "        split_data = data['a'].split('###output:')\n",
    "        print(split_data[0])\n",
    "        print(split_data[1])\n",
    "        print(\"Ouput:\\n\" + 100 * '-')\n",
    "        prompt = split_data[0].replace(\"\\n\", \"\")\n",
    "        set_seed(math.floor(random.random()*2345235))\n",
    "        model_inputs = tokenizer(prompt, return_tensors='pt').to(torch_device)\n",
    "\n",
    "        sample_output = model.generate(\n",
    "            **model_inputs,\n",
    "            max_new_tokens=90,\n",
    "            no_repeat_ngram_size=10,\n",
    "            do_sample=True,\n",
    "            top_k=0,\n",
    "            top_p=0.92,\n",
    "            temperature=0.6,\n",
    "        )\n",
    "\n",
    "        \n",
    "        output = tokenizer.decode(sample_output[0], skip_special_tokens=True)\n",
    "        split_text = output.split(\"### output : \")\n",
    "        play_by_play = split_text[-1]\n",
    "        input = split_text[0].split('### input :')[-1]\n",
    "        print(input.strip())\n",
    "        if 'event' in play_by_play:\n",
    "            play_by_play = play_by_play.split('event :')\n",
    "            print(play_by_play[0].strip())\n",
    "            if len(play_by_play) > 1:\n",
    "                print(play_by_play[1].strip().split(',')[0])\n",
    "        else:\n",
    "            print(play_by_play)\n",
    "        print(100 * '-')"
   ]
  }
 ],
 "metadata": {
  "kernelspec": {
   "display_name": "Python 3",
   "language": "python",
   "name": "python3"
  },
  "language_info": {
   "codemirror_mode": {
    "name": "ipython",
    "version": 3
   },
   "file_extension": ".py",
   "mimetype": "text/x-python",
   "name": "python",
   "nbconvert_exporter": "python",
   "pygments_lexer": "ipython3",
   "version": "3.10.11"
  },
  "orig_nbformat": 4
 },
 "nbformat": 4,
 "nbformat_minor": 2
}
